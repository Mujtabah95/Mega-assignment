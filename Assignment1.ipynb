{
 "cells": [
  {
   "cell_type": "code",
   "execution_count": 4,
   "metadata": {},
   "outputs": [],
   "source": [
    "#1\n",
    "#a\n",
    "#d"
   ]
  },
  {
   "cell_type": "code",
   "execution_count": 5,
   "metadata": {},
   "outputs": [],
   "source": [
    "#2\n",
    "#b"
   ]
  },
  {
   "cell_type": "code",
   "execution_count": 6,
   "metadata": {},
   "outputs": [],
   "source": [
    "#3\n",
    "#a"
   ]
  },
  {
   "cell_type": "code",
   "execution_count": 7,
   "metadata": {},
   "outputs": [],
   "source": [
    "#5\n",
    "#d"
   ]
  },
  {
   "cell_type": "code",
   "execution_count": 8,
   "metadata": {},
   "outputs": [],
   "source": [
    "#7\n",
    "#a #b"
   ]
  },
  {
   "cell_type": "code",
   "execution_count": 9,
   "metadata": {},
   "outputs": [],
   "source": [
    "#8\n",
    "#b"
   ]
  },
  {
   "cell_type": "code",
   "execution_count": 29,
   "metadata": {},
   "outputs": [
    {
     "name": "stdout",
     "output_type": "stream",
     "text": [
      "Enter key to find in the dictionary 2\n",
      "Found,  value = Irtaza\n"
     ]
    }
   ],
   "source": [
    "# 9.  Write Python Program add key-value pair in dictionary and check if a Given Key or Value or Both Exists\n",
    "#in a Dictionary or Not\n",
    "\n",
    "dict={1: 'Mujtaba', 2: 'Irtaza', 3:'Huzaifah'}\n",
    "key = int(input(\"Enter key to find in the dictionary \"))\n",
    "if key in dict.keys(): \n",
    "    print(\"Found, \", end =\" \") \n",
    "    print(\"value =\", dict[key]) \n",
    "else: \n",
    "    print(\"Not Found\")"
   ]
  },
  {
   "cell_type": "code",
   "execution_count": 53,
   "metadata": {},
   "outputs": [
    {
     "name": "stdout",
     "output_type": "stream",
     "text": [
      "Enter string:we is we is \n"
     ]
    },
    {
     "ename": "TypeError",
     "evalue": "'dict' object is not callable",
     "output_type": "error",
     "traceback": [
      "\u001b[1;31m---------------------------------------------------------------------------\u001b[0m",
      "\u001b[1;31mTypeError\u001b[0m                                 Traceback (most recent call last)",
      "\u001b[1;32m<ipython-input-53-9a4b4bd85130>\u001b[0m in \u001b[0;36m<module>\u001b[1;34m\u001b[0m\n\u001b[0;32m      6\u001b[0m \u001b[0ml\u001b[0m\u001b[1;33m=\u001b[0m\u001b[0mtest_string\u001b[0m\u001b[1;33m.\u001b[0m\u001b[0msplit\u001b[0m\u001b[1;33m(\u001b[0m\u001b[1;33m)\u001b[0m\u001b[1;33m\u001b[0m\u001b[1;33m\u001b[0m\u001b[0m\n\u001b[0;32m      7\u001b[0m \u001b[0mwordfreq\u001b[0m\u001b[1;33m=\u001b[0m\u001b[1;33m[\u001b[0m\u001b[0ml\u001b[0m\u001b[1;33m.\u001b[0m\u001b[0mcount\u001b[0m\u001b[1;33m(\u001b[0m\u001b[0mp\u001b[0m\u001b[1;33m)\u001b[0m \u001b[1;32mfor\u001b[0m \u001b[0mp\u001b[0m \u001b[1;32min\u001b[0m \u001b[0ml\u001b[0m\u001b[1;33m]\u001b[0m\u001b[1;33m\u001b[0m\u001b[1;33m\u001b[0m\u001b[0m\n\u001b[1;32m----> 8\u001b[1;33m \u001b[0mprint\u001b[0m\u001b[1;33m(\u001b[0m\u001b[0mdict\u001b[0m\u001b[1;33m(\u001b[0m\u001b[0mzip\u001b[0m\u001b[1;33m(\u001b[0m\u001b[0ml\u001b[0m\u001b[1;33m,\u001b[0m\u001b[0mwordfreq\u001b[0m\u001b[1;33m)\u001b[0m\u001b[1;33m)\u001b[0m\u001b[1;33m)\u001b[0m\u001b[1;33m\u001b[0m\u001b[1;33m\u001b[0m\u001b[0m\n\u001b[0m",
      "\u001b[1;31mTypeError\u001b[0m: 'dict' object is not callable"
     ]
    }
   ],
   "source": [
    "#10. Write a Python Program to Count the Frequency of Words Appearing in a String \n",
    "#Using a Dictionary and print only the words having Even (divisible by 2) frequency.\n",
    "\n",
    "test_string=input(\"Enter string:\")\n",
    "l=[]\n",
    "l=test_string.split()\n",
    "wordfreq=[l.count(p) for p in l]\n",
    "print(dict(zip(l,wordfreq)))"
   ]
  },
  {
   "cell_type": "code",
   "execution_count": 55,
   "metadata": {},
   "outputs": [
    {
     "name": "stdout",
     "output_type": "stream",
     "text": [
      "['Feb', 'Apr', 'Mar']\n",
      "['Mar', 'May', 'Jun', 'Jul', 'Aug', 'Jan']\n",
      "['Jun', 'Jul', 'Aug', 'Jan']\n",
      "['Apr', 'May', 'Jul']\n",
      "[]\n",
      "['Apr', 'Mar', 'May', 'Jun', 'Jul', 'Aug']\n",
      "['Jan', 'Jul', 'May', 'Apr']\n",
      "['Feb', 'Apr', 'Mar', 'May']\n"
     ]
    }
   ],
   "source": [
    "#11\n",
    "X = [\"Feb\", \"Apr\",\"Mar\",\"May\",\"Jun\",\"Jul\",\"Aug\",\"Jan\"] #What will be output of following? \n",
    "#X[0:3] \n",
    "print(X[0:3])\n",
    "#X[2:8]\n",
    "print(X[2:8])\n",
    "#X[4:9]\n",
    "print(X[4:9])\n",
    "#X[1:7:2]\n",
    "print(X[1:7:2])\n",
    "#X[-1:-7]\n",
    "print(X[-1:-7])\n",
    "#X[-7:7]\n",
    "print(X[-7:7])\n",
    "#X[-1:-8:-2]\n",
    "print(X[-1:-8:-2])\n",
    "#X[:4]\n",
    "print(X[:4])"
   ]
  },
  {
   "cell_type": "code",
   "execution_count": 56,
   "metadata": {},
   "outputs": [],
   "source": [
    "#12\n",
    "#3 remove(9)"
   ]
  },
  {
   "cell_type": "code",
   "execution_count": 57,
   "metadata": {},
   "outputs": [],
   "source": [
    "#13\n",
    "#1 *"
   ]
  },
  {
   "cell_type": "code",
   "execution_count": 58,
   "metadata": {},
   "outputs": [],
   "source": [
    "#14\n",
    "#1 upper() "
   ]
  },
  {
   "cell_type": "code",
   "execution_count": 59,
   "metadata": {},
   "outputs": [
    {
     "name": "stdout",
     "output_type": "stream",
     "text": [
      "<class 'bool'>\n",
      "<class 'str'>\n",
      "<class 'int'>\n",
      "<class 'float'>\n"
     ]
    }
   ],
   "source": [
    "#15\n",
    "p = True \n",
    "q = 'True' \n",
    "r = 2 \n",
    "s = 2.0 \n",
    "print(type(p)) \n",
    "print(type(q)) \n",
    "print(type(r)) \n",
    "print(type(s))"
   ]
  },
  {
   "cell_type": "code",
   "execution_count": 60,
   "metadata": {},
   "outputs": [],
   "source": [
    "#16. What are the optional arguments to the function? \n",
    "#4 R1 and q"
   ]
  },
  {
   "cell_type": "code",
   "execution_count": 61,
   "metadata": {},
   "outputs": [],
   "source": [
    "#17\n",
    "#4  p.x() "
   ]
  },
  {
   "cell_type": "code",
   "execution_count": 63,
   "metadata": {},
   "outputs": [
    {
     "name": "stdout",
     "output_type": "stream",
     "text": [
      "0\n",
      "2.0\n",
      "2\n",
      "2\n"
     ]
    }
   ],
   "source": [
    "#18\n",
    "X= 4\n",
    "Y=2\n",
    "print(X % Y) \n",
    "print(X / Y) \n",
    "print(X // Y) \n",
    "print(Y % X) \n"
   ]
  },
  {
   "cell_type": "code",
   "execution_count": 76,
   "metadata": {},
   "outputs": [
    {
     "name": "stdout",
     "output_type": "stream",
     "text": [
      "4\n",
      "1\n",
      "1\n",
      "5\n",
      "9\n",
      "0\n"
     ]
    }
   ],
   "source": [
    "#19\n",
    "x = [[4, 1, 1], [5, 9, 0]]\n",
    "for i in x:\n",
    "    for j in i:\n",
    "        print(j)    "
   ]
  },
  {
   "cell_type": "code",
   "execution_count": 80,
   "metadata": {},
   "outputs": [
    {
     "name": "stdout",
     "output_type": "stream",
     "text": [
      "Item0 -  10.62\n",
      "Item1 -  16.14\n",
      "Item2 -  6.45\n",
      "Item3 -  17.11\n"
     ]
    }
   ],
   "source": [
    "#20\n",
    "q = [10.62, 16.14, 6.45, 17.11] \n",
    "for z,k in enumerate (q): \n",
    "    print( 'Item' + str(z) +' - ', str ( k ))"
   ]
  },
  {
   "cell_type": "code",
   "execution_count": 83,
   "metadata": {},
   "outputs": [
    {
     "name": "stdout",
     "output_type": "stream",
     "text": [
      "Grade C\n"
     ]
    }
   ],
   "source": [
    "# 46. Write a program that receives marks from user and check the grade\n",
    "def grade(marks):\n",
    "    if marks < 0:\n",
    "        print(\"Error Should be greater than or equal to 0 \")\n",
    "    elif marks > 90:\n",
    "        print(\"Grade A\")\n",
    "    elif marks <= 90 and marks >=80:\n",
    "        print(\"Grade B\")\n",
    "    elif marks <= 80 and marks >=70:\n",
    "        print(\"Grade C\")\n",
    "    elif marks <= 70 and marks >=60:\n",
    "        print(\"Grade D\")\n",
    "    elif marks < 60:\n",
    "        print(\"Grade B\")\n",
    "grade(70)"
   ]
  },
  {
   "cell_type": "code",
   "execution_count": null,
   "metadata": {},
   "outputs": [],
   "source": []
  }
 ],
 "metadata": {
  "kernelspec": {
   "display_name": "Python 3",
   "language": "python",
   "name": "python3"
  },
  "language_info": {
   "codemirror_mode": {
    "name": "ipython",
    "version": 3
   },
   "file_extension": ".py",
   "mimetype": "text/x-python",
   "name": "python",
   "nbconvert_exporter": "python",
   "pygments_lexer": "ipython3",
   "version": "3.7.4"
  }
 },
 "nbformat": 4,
 "nbformat_minor": 2
}
