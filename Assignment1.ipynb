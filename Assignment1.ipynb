{
 "cells": [
  {
   "cell_type": "markdown",
   "metadata": {},
   "source": [
    "# #Question 1\n",
    "#d"
   ]
  },
  {
   "cell_type": "markdown",
   "metadata": {},
   "source": [
    "# #Question 2\n",
    "#b"
   ]
  },
  {
   "cell_type": "markdown",
   "metadata": {},
   "source": [
    "# #Question 3\n",
    "#a"
   ]
  },
  {
   "cell_type": "markdown",
   "metadata": {},
   "source": [
    "# #Question 5\n",
    "#d"
   ]
  },
  {
   "cell_type": "markdown",
   "metadata": {},
   "source": [
    "# #Question 7\n",
    "#a #b"
   ]
  },
  {
   "cell_type": "markdown",
   "metadata": {},
   "source": [
    "# #Question 8\n",
    "#b"
   ]
  },
  {
   "cell_type": "markdown",
   "metadata": {},
   "source": [
    "# # Question9.  Write Python Program add key-value pair in dictionary and check if a Given Key or Value or Both Exists\n",
    "#in a Dictionary or Not\n",
    "\n",
    "dict={1: 'Mujtaba', 2: 'Irtaza', 3:'Huzaifah'}\n",
    "key = int(input(\"Enter key to find in the dictionary \"))\n",
    "if key in dict.keys(): \n",
    "    print(\"Found, \", end =\" \") \n",
    "    print(\"value =\", dict[key]) \n",
    "else: \n",
    "    print(\"Not Found\")"
   ]
  },
  {
   "cell_type": "markdown",
   "metadata": {},
   "source": [
    "# #Question 10 Write a Python Program to Count the Frequency of Words Appearing in a String \n",
    "#Using a Dictionary and print only the words having Even (divisible by 2) frequency.\n",
    "\n",
    "test_string=input(\"Enter string:\")\n",
    "l=[]\n",
    "l=test_string.split()\n",
    "wordfreq=[l.count(p) for p in l]\n",
    "print(dict(zip(l,wordfreq)))"
   ]
  },
  {
   "cell_type": "markdown",
   "metadata": {},
   "source": [
    "# Question 11\n",
    "X = [\"Feb\", \"Apr\",\"Mar\",\"May\",\"Jun\",\"Jul\",\"Aug\",\"Jan\"] #What will be output of following? \n",
    "#X[0:3] \n",
    "print(X[0:3])\n",
    "#X[2:8]\n",
    "print(X[2:8])\n",
    "#X[4:9]\n",
    "print(X[4:9])\n",
    "#X[1:7:2]\n",
    "print(X[1:7:2])\n",
    "#X[-1:-7]\n",
    "print(X[-1:-7])\n",
    "#X[-7:7]\n",
    "print(X[-7:7])\n",
    "#X[-1:-8:-2]\n",
    "print(X[-1:-8:-2])\n",
    "#X[:4]\n",
    "print(X[:4])"
   ]
  },
  {
   "cell_type": "markdown",
   "metadata": {},
   "source": [
    "# # Question 12\n",
    "#3 remove(9)"
   ]
  },
  {
   "cell_type": "markdown",
   "metadata": {},
   "source": [
    "# # Question 13\n",
    "#1 *"
   ]
  },
  {
   "cell_type": "markdown",
   "metadata": {},
   "source": [
    "# # Question 14\n",
    "#1 upper() "
   ]
  },
  {
   "cell_type": "markdown",
   "metadata": {},
   "source": [
    "# #Question 15\n",
    "p = True \n",
    "q = 'True' \n",
    "r = 2 \n",
    "s = 2.0 \n",
    "print(type(p)) \n",
    "print(type(q)) \n",
    "print(type(r)) \n",
    "print(type(s))"
   ]
  },
  {
   "cell_type": "markdown",
   "metadata": {},
   "source": [
    "# #Question 16. What are the optional arguments to the function? \n",
    "#4 R1 and q"
   ]
  },
  {
   "cell_type": "markdown",
   "metadata": {},
   "source": [
    "# #Question17\n",
    "#4  p.x() "
   ]
  },
  {
   "cell_type": "markdown",
   "metadata": {},
   "source": [
    "# #Question 18\n",
    "X= 4\n",
    "Y=2\n",
    "print(X % Y) \n",
    "print(X / Y) \n",
    "print(X // Y) \n",
    "print(Y % X) \n"
   ]
  },
  {
   "cell_type": "markdown",
   "metadata": {},
   "source": [
    "# #Question 19\n",
    "x = [[4, 1, 1], [5, 9, 0]]\n",
    "for i in x:\n",
    "    for j in i:\n",
    "        print(j)    "
   ]
  },
  {
   "cell_type": "markdown",
   "metadata": {},
   "source": [
    "# # Question 20\n",
    "q = [10.62, 16.14, 6.45, 17.11] \n",
    "for z,k in enumerate (q): \n",
    "    print( 'Item' + str(z) +' - ', str ( k ))"
   ]
  },
  {
   "cell_type": "markdown",
   "metadata": {},
   "source": [
    "# Question 46. Write a program that receives marks from user and check the grade\n",
    "def grade(marks):\n",
    "    if marks < 0:\n",
    "        print(\"Error Should be greater than or equal to 0 \")\n",
    "    elif marks > 90:\n",
    "        print(\"Grade A\")\n",
    "    elif marks <= 90 and marks >=80:\n",
    "        print(\"Grade B\")\n",
    "    elif marks <= 80 and marks >=70:\n",
    "        print(\"Grade C\")\n",
    "    elif marks <= 70 and marks >=60:\n",
    "        print(\"Grade D\")\n",
    "    elif marks < 60:\n",
    "        print(\"Grade B\")\n",
    "grade(70)"
   ]
  },
  {
   "cell_type": "code",
   "execution_count": null,
   "metadata": {},
   "outputs": [],
   "source": []
  }
 ],
 "metadata": {
  "kernelspec": {
   "display_name": "Python 3",
   "language": "python",
   "name": "python3"
  },
  "language_info": {
   "codemirror_mode": {
    "name": "ipython",
    "version": 3
   },
   "file_extension": ".py",
   "mimetype": "text/x-python",
   "name": "python",
   "nbconvert_exporter": "python",
   "pygments_lexer": "ipython3",
   "version": "3.7.4"
  }
 },
 "nbformat": 4,
 "nbformat_minor": 2
}
